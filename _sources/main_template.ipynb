{
 "cells": [
  {
   "cell_type": "markdown",
   "id": "813938f8-90d1-4e02-b1c1-782556d1c847",
   "metadata": {},
   "source": [
    "# Demographics in the United States\n",
    "## An exploration of the relationships that exist between demographic datapoints"
   ]
  },
  {
   "cell_type": "markdown",
   "id": "2fe738a6-0fef-4967-908f-279272f2ac62",
   "metadata": {},
   "source": [
    "### Introduction"
   ]
  },
  {
   "cell_type": "markdown",
   "id": "5a2aa5c9-f310-4491-8bbb-427283c096db",
   "metadata": {},
   "source": [
    "The United States is comprised of so many types of people and jobs, all making different amounts of money with different backgrounds and levels of education. As a country there are many systems in place that limit or guarantee certain future employment opportunities, depending on different qualities like race, gender, and education. \n",
    "\n",
    "In this report, we explore the relationships between the features in our dataset. We seek to understand the imbalances for gender opportunities by stratifying gender over many factors like job title, income, and more. We also attempt to predict one's likely income amount (over or under the 50k). "
   ]
  },
  {
   "cell_type": "markdown",
   "id": "139ff477-cf39-4cbc-a240-759a319d36d2",
   "metadata": {},
   "source": [
    "### The Data"
   ]
  },
  {
   "cell_type": "markdown",
   "id": "c8dbd800-16c0-4ac6-9a4b-8c1d31362aff",
   "metadata": {},
   "source": [
    "The dataset we used is from Kaggle.com, and includes multiple demographic datapoints about individuals in the United States. The dataset contains the following columns:\n"
   ]
  },
  {
   "cell_type": "markdown",
   "id": "0ef95221-0526-4418-b0be-30d32cd9801b",
   "metadata": {},
   "source": [
    "1. Age: continuous variable\n",
    "2. Workclass: (categorical) Private, Self-emp-not-inc, Self-emp-inc, Federal-gov, Local-gov, State-gov, Without-pay, Never-worked.\n",
    "3. Fnlwgt: continuous variable, amount of people with same set of datapoints in the US\n",
    "4. Education: (categorical) Bachelors, Some-college, 11th, HS-grad, Prof-school, Assoc-acdm, Assoc-voc, 9th, 7th-8th, 12th, Masters, 1st-4th, 10th, Doctorate, 5th-6th, Preschool.\n",
    "5. Education-num: continuous.\n",
    "6. Marital-status: (categorical) Married-civ-spouse, Divorced, Never-married, Separated, Widowed, Married-spouse-absent, Married-AF-spouse.\n",
    "7. Occupation: (categorical) Tech-support, Craft-repair, Other-service, Sales, Exec-managerial, Prof-specialty, Handlers-cleaners, Machine-op-inspct, Adm-clerical, Farming-fishing, Transport-moving, Priv-house-serv, Protective-serv, Armed-Forces.\n",
    "8. Relationship: (categorical) Wife, Own-child, Husband, Not-in-family, Other-relative, Unmarried.\n",
    "9. Race: (categorical) White, Asian-Pac-Islander, Amer-Indian-Eskimo, Other, Black.\n",
    "10. Sex: (categorical) Female, Male.\n",
    "11. Capital-gain: continuous variable\n",
    "12. Capital-loss: continuous variable\n",
    "13. Hours-per-week: continuous variable\n",
    "14. Native-country: (categorical) United-States, Cambodia, England, Puerto-Rico, Canada, Germany, Outlying-US(Guam-USVI-etc), India, Japan, Greece, South, China, Cuba, Iran, Honduras, Philippines, Italy, Poland, Jamaica, Vietnam, Mexico, Portugal, Ireland, France, Dominican-Republic, Laos, Ecuador, Taiwan, Haiti, Columbia, Hungary, Guatemala, Nicaragua, Scotland, Thailand, Yugoslavia, El-Salvador, Trinadad&Tobago, Peru, Hong, Holand-Netherlands.\n",
    "15. Label: (categorical) Over_50k, Under_50k"
   ]
  },
  {
   "cell_type": "markdown",
   "id": "e425f9b2-5db0-4fb7-9b00-d533e3597612",
   "metadata": {},
   "source": [
    "### Package Imports"
   ]
  },
  {
   "cell_type": "code",
   "execution_count": null,
   "id": "4a8928b6-6e4a-46fc-bc27-2fff2b9a63da",
   "metadata": {},
   "outputs": [],
   "source": [
    "import numpy as np\n",
    "import pandas as pd\n",
    "import matplotlib.pyplot as plt\n",
    "from sklearn.tree import DecisionTreeClassifier\n",
    "from sklearn.model_selection import train_test_split\n",
    "from sklearn import metrics\n",
    "from sklearn import tree\n",
    "\n",
    "from gender_functions import plot_gender_eda\n",
    "from gender_functions import process_df\n",
    "from gender_functions import plot_tree\n"
   ]
  },
  {
   "cell_type": "markdown",
   "id": "0d612361-7652-4423-8462-86513fd9f559",
   "metadata": {},
   "source": [
    "### Data Import"
   ]
  },
  {
   "cell_type": "code",
   "execution_count": null,
   "id": "ddecec19-b345-4e85-bc90-dad96b5b361f",
   "metadata": {},
   "outputs": [],
   "source": [
    "df = pd.read_csv('adult.data', header = None)\n",
    "df.columns = ['age', 'workclass', 'fnlwgt', 'education', 'education-num', 'marital-status','occupation',\n",
    "              'relationship', 'race', 'sex','capital-gain','capital-loss','hours-per-week','native country','label']\n",
    "df.head()"
   ]
  },
  {
   "cell_type": "markdown",
   "id": "8b23d2fe-11fb-496d-a777-cd3c014f9fb2",
   "metadata": {},
   "source": [
    "### Exploritory Data Analysis\n",
    "\n",
    "Understanding what our data looks like is important. We want to see what the data looks like, are there any empty or unreliable variables, is the dataset sparse. We also want to find any outliers and remove them."
   ]
  },
  {
   "cell_type": "markdown",
   "id": "cc44ebc9-51f8-4460-a6a1-a4ebd2e765f4",
   "metadata": {},
   "source": [
    "First, we can see that there are no missing values in this data."
   ]
  },
  {
   "cell_type": "code",
   "execution_count": null,
   "id": "12d85337-6a7d-4272-8509-3c246c312525",
   "metadata": {},
   "outputs": [],
   "source": [
    "df.isnull().sum()"
   ]
  },
  {
   "cell_type": "markdown",
   "id": "f505823c-74a4-450f-98bf-ab2abc7d8a17",
   "metadata": {},
   "source": [
    "Since age is correlated with income, older individulas tend to have higher income due to their experience in the fields. We can see that 43.7% of our data contains Americans over 40 years old."
   ]
  },
  {
   "cell_type": "code",
   "execution_count": null,
   "id": "7381c476-2ee6-4618-8b7c-e34b2ff5e645",
   "metadata": {},
   "outputs": [],
   "source": [
    "len(df[df['age'] >= 40]) / len(df)"
   ]
  },
  {
   "cell_type": "markdown",
   "id": "748d27c7-b65f-4880-89d0-862f425ea5fe",
   "metadata": {},
   "source": [
    "Next, we want to explore the income level of Americans. This dataset found that 24720 individuals make less than 50k a year and 7841 individuals earn more than 50k a year. Therefore, the percentage of Americans that makes more than 50k a year is around 24%."
   ]
  },
  {
   "cell_type": "code",
   "execution_count": null,
   "id": "1a94d28e-ec0f-4f87-8459-0b9770874938",
   "metadata": {},
   "outputs": [],
   "source": [
    "df.label.value_counts()"
   ]
  },
  {
   "cell_type": "code",
   "execution_count": null,
   "id": "9ad63cc1-07fd-4c36-a85d-50b0f6acee9a",
   "metadata": {},
   "outputs": [],
   "source": [
    "# Percent of americans making more than 50k a year\n",
    "7841 / len(df)"
   ]
  },
  {
   "cell_type": "markdown",
   "id": "20e1a926-f897-47b9-b88c-161f2ab55f13",
   "metadata": {},
   "source": [
    "We want to see if more Americans over 40 years old make more than 50k a year. Assuming one makes more money as they age, we should see an increase. We found that 9216 individuals earn less than 50k and 5021 individuals who make more than 50k a year over 40 years old. The percentage of Americans over 40 years old and making over 50k a year is 35.3% which is higher than the Americans making over 50k a year without age boundary. "
   ]
  },
  {
   "cell_type": "code",
   "execution_count": null,
   "id": "97a52289-00e5-4c1b-9791-71fe5f73e919",
   "metadata": {},
   "outputs": [],
   "source": [
    "df_over40 = df[df['age'] >= 40]\n",
    "df_over40.label.value_counts()"
   ]
  },
  {
   "cell_type": "code",
   "execution_count": null,
   "id": "53a11e48-36ff-4434-9321-4add4a05e274",
   "metadata": {},
   "outputs": [],
   "source": [
    "# Percentage of American over 40 and make more than 50k a year\n",
    "5021 / len(df_over40)"
   ]
  },
  {
   "cell_type": "markdown",
   "id": "62f9be8a-0dcd-468b-a819-4955f369ab7d",
   "metadata": {},
   "source": [
    "To explore the education level difference in gender, we created a count plot. We found that more males completed the same education level than females such that more males completed bachelor's than females. The data set contains more males than females. Without specifying the counts, we can see the overall trend that more males completed education than females. "
   ]
  },
  {
   "cell_type": "code",
   "execution_count": null,
   "id": "98fa504d-1257-42a7-a044-9bd77a788a7b",
   "metadata": {},
   "outputs": [],
   "source": [
    "plt.figure(figsize = (15,8))\n",
    "ax = sns.countplot(x = 'education', hue = 'sex', data = df)\n",
    "ax.set_xticklabels(ax.get_xticklabels(),rotation = 30)\n",
    "plt.title('Education Level Count by Gender')\n",
    "plt.show()"
   ]
  },
  {
   "cell_type": "markdown",
   "id": "99e7c85f-994d-4ac3-8104-deb816a260b5",
   "metadata": {},
   "source": [
    "We also want to explore if different races would be more likely to be in a particular occupation. There are more white people in the dataset overthrowing the proportion of the graph, making it unclear to see a trend directly from this plot."
   ]
  },
  {
   "cell_type": "code",
   "execution_count": null,
   "id": "cba4606b-a4fc-4ca8-9f09-5ca31da10d62",
   "metadata": {},
   "outputs": [],
   "source": [
    "plt.figure(figsize = (15,8))\n",
    "ax = sns.countplot(x = 'occupation', hue = 'race', data = df)\n",
    "ax.set_xticklabels(ax.get_xticklabels(),rotation = 30)\n",
    "plt.title('Occupation Count by Race')\n",
    "plt.show()"
   ]
  },
  {
   "cell_type": "markdown",
   "id": "5910191c-673b-4b8a-a8d0-79d5608de4a9",
   "metadata": {},
   "source": [
    "We want to exclude the possible outliers in our data to obtain a more accurate analysis of demographic data points. We exclude the distribution above 99 percent quantile or below the 1  percent quantile limit. This means anyone older than 74 or younger than 17 years old will not be included in the analysis. "
   ]
  },
  {
   "cell_type": "code",
   "execution_count": null,
   "id": "6c11e6c6-9daf-4a93-8399-f162a8de76c8",
   "metadata": {},
   "outputs": [],
   "source": [
    "def filter_outliers(df, column):\n",
    "    q_low = df[column].quantile(0.01)\n",
    "    q_hi  = df[column].quantile(0.99)\n",
    "    filter_df = df[(df[column] < q_hi) & (df[column] > q_low)]\n",
    "    return filter_df"
   ]
  },
  {
   "cell_type": "code",
   "execution_count": null,
   "id": "79b7216a-bf5d-4305-b46c-bfe6e44ab6ae",
   "metadata": {},
   "outputs": [],
   "source": [
    "df = filter_outliers(df, 'age')\n",
    "df.head()"
   ]
  },
  {
   "cell_type": "markdown",
   "id": "44712044-92e2-41f5-8e5d-805d8f15d50b",
   "metadata": {},
   "source": [
    "### Gender Analysis"
   ]
  },
  {
   "cell_type": "markdown",
   "id": "c6aae9a3-eaa1-413c-baa5-5d59384f9d8a",
   "metadata": {},
   "source": [
    "The following section explores the gender differences amongst non-instrinsic qualities like education level, income, occupation, working class, and marital status, to understand if there are any predictive features or noteworthy imbalances. Intrinsic features such as race, age, or nationality will not be considered, as these alone don't have any logical predictive power of gender, and included in the model would not be valid split points."
   ]
  },
  {
   "cell_type": "markdown",
   "id": "3ad2a82b-86f7-4fad-9e0d-88c406a58d63",
   "metadata": {},
   "source": [
    "We first want to evaulate the ration of men to women in this dataset, to give context to any imbalances seen in the variables."
   ]
  },
  {
   "cell_type": "code",
   "execution_count": null,
   "id": "124be503-227f-4001-9064-5009a6391e14",
   "metadata": {},
   "outputs": [],
   "source": [
    "df['sex'].value_counts()/len(df['sex'])"
   ]
  },
  {
   "cell_type": "markdown",
   "id": "fbce8a6e-8efd-4889-933e-6dd638ff8284",
   "metadata": {},
   "source": [
    "We can see that there is about 33/66 split on gender. This is important context to plotting relationships."
   ]
  },
  {
   "cell_type": "code",
   "execution_count": null,
   "id": "8b7e3821-e45b-43de-b813-9726d2179cd1",
   "metadata": {},
   "outputs": [],
   "source": [
    "plot_gender_eda(df)\n"
   ]
  },
  {
   "cell_type": "markdown",
   "id": "82d09b14-751b-4fa6-b647-bba0c6acf0d0",
   "metadata": {},
   "source": [
    "From these plots, we can see there certain variables have more stratification on gender than others. Income, for example, shows that men are more likely to be making >50k. It also shows that men are more likely to be married in this dataset. It also shows that females are more educated."
   ]
  },
  {
   "cell_type": "code",
   "execution_count": null,
   "id": "403d263c-ddb7-43fa-8aac-2efbd39010b6",
   "metadata": {},
   "outputs": [],
   "source": [
    "#Processing our dataframe for our model\n",
    "X, target = process_df(df, 'sex')\n",
    "#let's divide our data into a training and testing set, giving our test 15% of the data\n",
    "X_train, X_test, y_train, y_test = train_test_split(X, target, test_size=0.15, random_state=42)\n",
    "\n",
    "#using a Decision Tree\n",
    "clf = DecisionTreeClassifier(max_depth = 3, random_state = 42)\n",
    "clf = clf.fit(X_train,y_train)\n",
    "clf.feature_names = list(X_train.columns.values)\n",
    "y_pred = clf.predict(X_test)\n"
   ]
  },
  {
   "cell_type": "markdown",
   "id": "6f66ea55-8f2f-4d7e-976d-2a39612c089b",
   "metadata": {},
   "source": [
    "Let's see how accurate is our model."
   ]
  },
  {
   "cell_type": "code",
   "execution_count": null,
   "id": "7bc3965e-b7f1-4dbc-9460-e602cf7602bd",
   "metadata": {},
   "outputs": [],
   "source": [
    "metrics.accuracy_score(y_test, y_pred)"
   ]
  },
  {
   "cell_type": "markdown",
   "id": "bd7981bd-040a-45c1-9714-27a1a9faad2f",
   "metadata": {},
   "source": [
    "The below is a visualization of the decision tree."
   ]
  },
  {
   "cell_type": "code",
   "execution_count": null,
   "id": "9d7125eb-a926-49b0-a57b-729c00dc9847",
   "metadata": {},
   "outputs": [],
   "source": [
    "plot_tree(clf, target)"
   ]
  },
  {
   "cell_type": "markdown",
   "id": "4c066e6f-d4ed-4428-8993-9738dc1ed5e0",
   "metadata": {},
   "source": [
    "We can see from the decision tree that there is still a lot of impurity in each split, meaning that no single factor is helping to determine gender totally. "
   ]
  },
  {
   "cell_type": "markdown",
   "id": "282947ce-67ca-403d-b5ca-e41a0a96a041",
   "metadata": {},
   "source": [
    "### Income Prediction"
   ]
  },
  {
   "cell_type": "markdown",
   "id": "ba73de35-1ea9-47c6-82d0-c3f0d2181bf7",
   "metadata": {},
   "source": [
    "The following section explores the predictive power of our features on the income variable. We are using a decision tree model, with an ensemble method for accuracy improvements. "
   ]
  },
  {
   "cell_type": "markdown",
   "id": "14bdf8a3-b74a-4f16-8057-6e43436f7826",
   "metadata": {},
   "source": [
    "### Results and Limitations"
   ]
  },
  {
   "cell_type": "markdown",
   "id": "27c0d16b-86b6-4a45-b981-f49c4833352c",
   "metadata": {},
   "source": [
    "blah blah"
   ]
  },
  {
   "cell_type": "code",
   "execution_count": null,
   "id": "235ed057-7f1d-48d2-9e13-988dde64b625",
   "metadata": {},
   "outputs": [],
   "source": []
  },
  {
   "cell_type": "markdown",
   "id": "2cab483b-0b2e-43bf-b106-6be61f888f18",
   "metadata": {},
   "source": [
    "### Author Contributions"
   ]
  },
  {
   "cell_type": "markdown",
   "id": "759b0807-8a12-4c3b-88ab-a13a50a559be",
   "metadata": {},
   "source": [
    "Midori"
   ]
  },
  {
   "cell_type": "markdown",
   "id": "60b9d910-6907-4a19-be96-8f2346f8ccda",
   "metadata": {},
   "source": [
    "Samantha"
   ]
  },
  {
   "cell_type": "markdown",
   "id": "70d79660-51fb-4b12-9e3d-1d8c409e6213",
   "metadata": {},
   "source": [
    "Noam"
   ]
  }
 ],
 "metadata": {
  "kernelspec": {
   "display_name": "Python 3 (ipykernel)",
   "language": "python",
   "name": "python3"
  },
  "language_info": {
   "codemirror_mode": {
    "name": "ipython",
    "version": 3
   },
   "file_extension": ".py",
   "mimetype": "text/x-python",
   "name": "python",
   "nbconvert_exporter": "python",
   "pygments_lexer": "ipython3",
   "version": "3.9.9"
  }
 },
 "nbformat": 4,
 "nbformat_minor": 5
}
